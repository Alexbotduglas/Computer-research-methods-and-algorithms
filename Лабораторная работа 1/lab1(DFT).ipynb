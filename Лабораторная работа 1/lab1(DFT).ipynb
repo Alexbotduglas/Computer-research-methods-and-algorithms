{
 "cells": [
  {
   "cell_type": "markdown",
   "metadata": {},
   "source": [
    "##### Спецкурс \"Методы и алгоритмы компьютерного зрения\"\n",
    "---"
   ]
  },
  {
   "cell_type": "markdown",
   "metadata": {},
   "source": [
    "### Дискретное преобразование Фурье и его использование в фильтрации изображений\n",
    "---\n",
    "\n",
    "#### $\\S$ 1. Быстрое преобразование Фурье\n",
    "Пусть \n",
    "\n",
    "$$\n",
    "W_n = e^{\\frac{2\\pi i}{n}},~~n\\in \\mathbf{N}.\n",
    "$$\n",
    "\n",
    "Вектор $\\mathrm{y} = \\begin{pmatrix}y_0 & y_1 & \\dots & y_{n-1}\\end{pmatrix}^T$, где\n",
    "\n",
    "$$\n",
    "y_k = \\sum\\limits_{j=0}^{n-1} a_j W_n^{-k\\cdot j}\n",
    "$$\n",
    "\n",
    "называется дискретным преобразованием Фурье (ДПФ) вектора коэффициентов $\\mathrm{a} = \\begin{pmatrix}a_0 & a_1 & \\dots & a_{n-1}\\end{pmatrix}^T$. Используется запись $\\mathrm{y} = \\mathrm{DFT}_n (\\mathrm{a})$, где $\\mathrm{DFT}$ сокращение Discrete Fourier Transform.\n",
    "\n",
    "Рекурсивный алгоритм $DFT_{n}(a)$, где $a$ -- вектор:\n",
    "\n",
    "$$\n",
    "y_k = DFT_{{n/2}}(a[::2]) + W_n^{-k}  DFT_{{n/2}}(a[1::2]),~~k=0,1,\\dots,\\frac{n}{2}-1;\n",
    "$$\n",
    "\n",
    "$$\n",
    "y_{k+\\frac{n}{2}} = DFT_{{n/2}}(a[::2]) - W_n^{-k}  DFT_{{n/2}}(a[1::2]),~~k=0,1,\\dots,\\frac{n}{2}-1.\n",
    "$$\n",
    "\n",
    "\n",
    "Обратное дискретное преобразование Фурье вычисляется по формуле\n",
    "\n",
    "$$\n",
    "a_j = \\frac{1}{n}\\sum\\limits_{k=0}^{n-1} y_k W_n^{k\\cdot j}.\n",
    "$$\n",
    "\n",
    "#### $\\S 2$ Задание\n",
    "\n",
    "Реализовать рекурсивный алгоритм быстрого преобразования Фурье и обратного преобразования для векторов"
   ]
  },
  {
   "cell_type": "code",
   "execution_count": 1,
   "metadata": {},
   "outputs": [],
   "source": [
    "import numpy as np\n",
    "import cmath as cm"
   ]
  },
  {
   "cell_type": "code",
   "execution_count": 2,
   "metadata": {},
   "outputs": [],
   "source": [
    "def fft1(a):\n",
    "    i = complex(0, 1)\n",
    "    n = len(a) # n является степенью 2\n",
    "    if (n == 1):\n",
    "        return a\n",
    "    else:\n",
    "        y = np.zeros(n, dtype = np.complex128)\n",
    "        #...Ваш код\n",
    "        return y\n",
    "\n",
    "def Invfft1(y):\n",
    "    i = complex(0, 1)\n",
    "    n = len(y) # n является степенью 2\n",
    "    if (n == 1):\n",
    "        return y\n",
    "    else:\n",
    "        a = np.zeros(n, dtype = np.complex128)\n",
    "        #...Ваш код\n",
    "        return a\n",
    "\n",
    "def ifft1(y):\n",
    "    return (1 / len(y)) * Invfft1(y)"
   ]
  },
  {
   "cell_type": "code",
   "execution_count": 18,
   "metadata": {},
   "outputs": [
    {
     "name": "stdout",
     "output_type": "stream",
     "text": [
      "Перобразование Фурье numpy =  [ 5.34036161+0.j         -0.12510292+1.01676704j  0.29224776+0.35999755j\n",
      "  0.38763694-0.51596973j -1.15057189+0.j          0.38763694+0.51596973j\n",
      "  0.29224776-0.35999755j -0.12510292-1.01676704j]\n",
      "Перобразование Фурье мое =  [ 5.34036161+0.j         -0.12510292+1.01676704j  0.29224776+0.35999755j\n",
      "  0.38763694-0.51596973j -1.15057189+0.j          0.38763694+0.51596973j\n",
      "  0.29224776-0.35999755j -0.12510292-1.01676704j]\n"
     ]
    }
   ],
   "source": [
    "a = np.random.random(size = (8))\n",
    "y1 = np.fft.fft(a) # прямое преобразование, реализованное в numpy\n",
    "y2 = fft1(a)\n",
    "print('Перобразование Фурье numpy = ', y1)\n",
    "print('Перобразование Фурье мое = ', y2)"
   ]
  },
  {
   "cell_type": "code",
   "execution_count": 4,
   "metadata": {},
   "outputs": [
    {
     "name": "stdout",
     "output_type": "stream",
     "text": [
      "Обратное перобразование Фурье numpy =  [0.89697435 0.83753205 0.01945192 0.91112878 0.68045109 0.76361086\n",
      " 0.19940977 0.66394233]\n",
      "Обратное перобразование Фурье мое =  [0.89697435 0.83753205 0.01945192 0.91112878 0.68045109 0.76361086\n",
      " 0.19940977 0.66394233]\n"
     ]
    }
   ],
   "source": [
    "a1 = np.fft.ifft(y1).real # обратное преобразование, реализованное в numpy\n",
    "a2 = ifft1(y2).real\n",
    "print('Обратное перобразование Фурье numpy = ', a1)\n",
    "print('Обратное перобразование Фурье мое = ', a2)"
   ]
  },
  {
   "cell_type": "markdown",
   "metadata": {},
   "source": [
    "### Литература\n",
    "\n",
    "1. Кормен, Томас Х., Лейзерсон, Чарльз И., Ривест, Рональд Л., Штайн, Клиффорд. Алгоритмы: построение и анализ, 2-е издание.: пер. с англ. -- М. Издательский дом \"Вильямс\", 2013. -- 1296 с.: ил."
   ]
  }
 ],
 "metadata": {
  "kernelspec": {
   "display_name": "Python 3 (ipykernel)",
   "language": "python",
   "name": "python3"
  },
  "language_info": {
   "codemirror_mode": {
    "name": "ipython",
    "version": 3
   },
   "file_extension": ".py",
   "mimetype": "text/x-python",
   "name": "python",
   "nbconvert_exporter": "python",
   "pygments_lexer": "ipython3",
   "version": "3.9.13"
  }
 },
 "nbformat": 4,
 "nbformat_minor": 2
}
